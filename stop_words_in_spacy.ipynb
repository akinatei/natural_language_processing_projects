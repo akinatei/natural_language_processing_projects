{
 "cells": [
  {
   "cell_type": "code",
   "execution_count": 2,
   "metadata": {},
   "outputs": [
    {
     "name": "stderr",
     "output_type": "stream",
     "text": [
      "2023-05-24 08:53:29.462093: I tensorflow/core/platform/cpu_feature_guard.cc:193] This TensorFlow binary is optimized with oneAPI Deep Neural Network Library (oneDNN) to use the following CPU instructions in performance-critical operations:  SSE4.1 SSE4.2 AVX AVX2 FMA\n",
      "To enable them in other operations, rebuild TensorFlow with the appropriate compiler flags.\n"
     ]
    }
   ],
   "source": [
    "import spacy\n",
    "from spacy.lang.en.stop_words import STOP_WORDS"
   ]
  },
  {
   "cell_type": "code",
   "execution_count": 3,
   "metadata": {},
   "outputs": [
    {
     "data": {
      "text/plain": [
       "326"
      ]
     },
     "execution_count": 3,
     "metadata": {},
     "output_type": "execute_result"
    }
   ],
   "source": [
    "len(STOP_WORDS)"
   ]
  },
  {
   "cell_type": "code",
   "execution_count": 4,
   "metadata": {},
   "outputs": [],
   "source": [
    "nlp = spacy.load(\"en_core_web_sm\")\n"
   ]
  },
  {
   "cell_type": "code",
   "execution_count": null,
   "metadata": {},
   "outputs": [],
   "source": []
  },
  {
   "cell_type": "code",
   "execution_count": 5,
   "metadata": {},
   "outputs": [],
   "source": [
    "import pandas as pd"
   ]
  },
  {
   "cell_type": "markdown",
   "metadata": {},
   "source": [
    "### EXERCISES"
   ]
  },
  {
   "cell_type": "markdown",
   "metadata": {},
   "source": [
    "Exercise1:\n",
    "\n",
    "1. From a Given Text, Count the number of stop words in it.\n",
    "2. Print the percentage of stop word tokens compared to all tokens in a given text."
   ]
  },
  {
   "cell_type": "code",
   "execution_count": 6,
   "metadata": {},
   "outputs": [
    {
     "data": {
      "text/plain": [
       "160"
      ]
     },
     "execution_count": 6,
     "metadata": {},
     "output_type": "execute_result"
    }
   ],
   "source": [
    "text = '''\n",
    "Thor: Love and Thunder is a 2022 American superhero film based on Marvel Comics featuring the character Thor, produced by Marvel Studios and \n",
    "distributed by Walt Disney Studios Motion Pictures. It is the sequel to Thor: Ragnarok (2017) and the 29th film in the Marvel Cinematic Universe (MCU).\n",
    "The film is directed by Taika Waititi, who co-wrote the script with Jennifer Kaytin Robinson, and stars Chris Hemsworth as Thor alongside Christian Bale, Tessa Thompson,\n",
    "Jaimie Alexander, Waititi, Russell Crowe, and Natalie Portman. In the film, Thor attempts to find inner peace, but must return to action and recruit Valkyrie (Thompson),\n",
    "Korg (Waititi), and Jane Foster (Portman)—who is now the Mighty Thor—to stop Gorr the God Butcher (Bale) from eliminating all gods.\n",
    "'''\n",
    "\n",
    "#step1: Create the object 'doc' for the given text using nlp()\n",
    "doc = nlp(text)\n",
    "total = [token.text for token in doc]\n",
    "len(total)"
   ]
  },
  {
   "cell_type": "code",
   "execution_count": 7,
   "metadata": {},
   "outputs": [
    {
     "name": "stdout",
     "output_type": "stream",
     "text": [
      "the stop words count is 40\n",
      "Percentage: 25.0\n"
     ]
    }
   ],
   "source": [
    "# define variables\n",
    "stop_words_count = 0\n",
    "total_words_count = 0\n",
    "\n",
    "# iterate\n",
    "for token in doc:\n",
    "    if token.is_stop:\n",
    "        stop_words_count += 1\n",
    "    total_words_count +=1\n",
    "\n",
    "# print stop words\n",
    "print(f'the stop words count is {stop_words_count}')\n",
    "\n",
    "# percentage of stop words\n",
    "percentage = (stop_words_count/total_words_count)*100\n",
    "print(f'Percentage: {percentage}')"
   ]
  },
  {
   "cell_type": "code",
   "execution_count": 8,
   "metadata": {},
   "outputs": [
    {
     "name": "stdout",
     "output_type": "stream",
     "text": [
      "40 120\n"
     ]
    }
   ],
   "source": [
    "#step2: define the variables to keep track of stopwords count and total words count\n",
    "stops = []\n",
    "words = []\n",
    "for token in doc:\n",
    "    if token.is_stop:\n",
    "        stops.append(token)\n",
    "    elif not token.is_stop:\n",
    "        words.append(token)\n",
    "print(len(stops), len(words))"
   ]
  },
  {
   "cell_type": "code",
   "execution_count": 9,
   "metadata": {},
   "outputs": [
    {
     "name": "stdout",
     "output_type": "stream",
     "text": [
      "percentage of stop words is 25.0 and token is 75.0\n"
     ]
    }
   ],
   "source": [
    "# percentage comparism\n",
    "stop_per = (len(stops)/len(total))*100\n",
    "\n",
    "words_per =(len(words)/len(total))*100\n",
    "print(f'percentage of stop words is {stop_per} and token is {words_per}')"
   ]
  },
  {
   "cell_type": "code",
   "execution_count": 10,
   "metadata": {},
   "outputs": [],
   "source": [
    "#step3: iterate through all the words in the document\n",
    "#step4: print the count of stop words\n",
    "#step5: print the percentage of stop words compared to total words in the text\n"
   ]
  },
  {
   "cell_type": "markdown",
   "metadata": {},
   "source": [
    "Exercise2:\n",
    "\n",
    "1. Spacy default implementation considers \"not\" as a stop word. But in some scenarios removing 'not' will completely change the meaning of the statement/text. For Example, consider these two statements:\n",
    "\n",
    "- this is a good movie       ----> Positive Statement\n",
    "- this is not a good movie   ----> Negative Statement\n",
    "\n",
    "2. So, after applying stopwords to those 2 texts, both will return \"good movie\" and does not respect the polarity/sentiments of text.\n",
    "\n",
    "3. Now, your task is to remove this stop word \"not\" in spaCy and help in distinguishing the texts.\n",
    "\n",
    "4. Hint: GOOGLE IT! Google is your friend."
   ]
  },
  {
   "cell_type": "code",
   "execution_count": 11,
   "metadata": {},
   "outputs": [],
   "source": [
    "\n",
    "text_n = 'this is not a good movie'\n",
    "texts = ['this is a good movie', 'this is not a good movie']"
   ]
  },
  {
   "cell_type": "code",
   "execution_count": 12,
   "metadata": {},
   "outputs": [
    {
     "name": "stdout",
     "output_type": "stream",
     "text": [
      "positive reviews is good movie\n",
      "negative reviews is not good movie\n"
     ]
    }
   ],
   "source": [
    "#use this pre-processing function to pass the text and to remove all the stop words and finally get the cleaned form\n",
    "\n",
    "def preprocess(text):\n",
    "    doc = nlp(text)\n",
    "    no_stop_words = [token.text for token in doc if not token.is_stop]\n",
    "    return \" \".join(no_stop_words)       \n",
    "\n",
    "\n",
    "#Step1: remove the stopword 'not' in spacy\n",
    "nlp.vocab[\"not\"].is_stop = False\n",
    "\n",
    "\n",
    "#step2: send the two texts given above into the pre-process function and store the transformed texts\n",
    "text_p = preprocess('this is a good movie')\n",
    "text_n = preprocess('this is not a good movie')\n",
    "\n",
    "\n",
    "#step3: finally print those 2 transformed texts\n",
    "print(f'positive reviews is {text_p}')\n",
    "print(f'negative reviews is {text_n}')"
   ]
  },
  {
   "cell_type": "code",
   "execution_count": 13,
   "metadata": {},
   "outputs": [],
   "source": [
    "text = ''' The India men's national cricket team, also known as Team India or the Men in Blue, represents India in men's international cricket.\n",
    "It is governed by the Board of Control for Cricket in India (BCCI), and is a Full Member of the International Cricket Council (ICC) with Test,\n",
    "One Day International (ODI) and Twenty20 International (T20I) status. Cricket was introduced to India by British sailors in the 18th century, and the \n",
    "first cricket club was established in 1792. India's national cricket team played its first Test match on 25 June 1932 at Lord's, becoming the sixth team to be\n",
    "granted test cricket status.\n",
    "'''\n"
   ]
  },
  {
   "cell_type": "markdown",
   "metadata": {},
   "source": [
    "Exercise3:\n",
    "\n",
    "1. From a given text, output the most frequently used token after removing all the stop word tokens and punctuations in it."
   ]
  },
  {
   "cell_type": "code",
   "execution_count": 14,
   "metadata": {},
   "outputs": [
    {
     "data": {
      "text/plain": [
       "[' ',\n",
       " 'india',\n",
       " 'men',\n",
       " 'national',\n",
       " 'cricket',\n",
       " 'team',\n",
       " 'known',\n",
       " 'team',\n",
       " 'india',\n",
       " 'men',\n",
       " 'blue',\n",
       " 'represents',\n",
       " 'india',\n",
       " 'men',\n",
       " 'international',\n",
       " 'cricket',\n",
       " '\\n',\n",
       " 'governed',\n",
       " 'board',\n",
       " 'control',\n",
       " 'cricket',\n",
       " 'india',\n",
       " 'bcci',\n",
       " 'member',\n",
       " 'international',\n",
       " 'cricket',\n",
       " 'council',\n",
       " 'icc',\n",
       " 'test',\n",
       " '\\n',\n",
       " 'day',\n",
       " 'international',\n",
       " 'odi',\n",
       " 'twenty20',\n",
       " 'international',\n",
       " 't20i',\n",
       " 'status',\n",
       " 'cricket',\n",
       " 'introduced',\n",
       " 'india',\n",
       " 'british',\n",
       " 'sailors',\n",
       " '18th',\n",
       " 'century',\n",
       " '\\n',\n",
       " 'cricket',\n",
       " 'club',\n",
       " 'established',\n",
       " '1792',\n",
       " 'india',\n",
       " 'national',\n",
       " 'cricket',\n",
       " 'team',\n",
       " 'played',\n",
       " 'test',\n",
       " 'match',\n",
       " '25',\n",
       " 'june',\n",
       " '1932',\n",
       " 'lord',\n",
       " 'sixth',\n",
       " 'team',\n",
       " '\\n',\n",
       " 'granted',\n",
       " 'test',\n",
       " 'cricket',\n",
       " 'status',\n",
       " '\\n']"
      ]
     },
     "execution_count": 14,
     "metadata": {},
     "output_type": "execute_result"
    }
   ],
   "source": [
    "#step1: Create the object 'doc' for the given text using nlp()\n",
    "\n",
    "doc = nlp(text)\n",
    "#new_text = []\n",
    "\n",
    "#step2: remove all the stop words and punctuations and store all the remaining tokens in a new list\n",
    "# for token in doc:\n",
    "#     if not token.is_stop and not token.is_punct:\n",
    "#         new_text.append(token)\n",
    "\n",
    "\n",
    "# print(new_text)\n",
    "new_text = [token.text for token in doc if not token.is_stop and not token.is_punct]\n",
    "\" \".join(new_text)\n",
    "\n",
    "# convert to lower\n",
    "new_text = list(map(lambda x: x.lower(), new_text))\n",
    "new_text"
   ]
  },
  {
   "cell_type": "code",
   "execution_count": 15,
   "metadata": {},
   "outputs": [
    {
     "data": {
      "text/plain": [
       "Counter({' ': 1,\n",
       "         'india': 6,\n",
       "         'men': 3,\n",
       "         'national': 2,\n",
       "         'cricket': 8,\n",
       "         'team': 4,\n",
       "         'known': 1,\n",
       "         'blue': 1,\n",
       "         'represents': 1,\n",
       "         'international': 4,\n",
       "         '\\n': 5,\n",
       "         'governed': 1,\n",
       "         'board': 1,\n",
       "         'control': 1,\n",
       "         'bcci': 1,\n",
       "         'member': 1,\n",
       "         'council': 1,\n",
       "         'icc': 1,\n",
       "         'test': 3,\n",
       "         'day': 1,\n",
       "         'odi': 1,\n",
       "         'twenty20': 1,\n",
       "         't20i': 1,\n",
       "         'status': 2,\n",
       "         'introduced': 1,\n",
       "         'british': 1,\n",
       "         'sailors': 1,\n",
       "         '18th': 1,\n",
       "         'century': 1,\n",
       "         'club': 1,\n",
       "         'established': 1,\n",
       "         '1792': 1,\n",
       "         'played': 1,\n",
       "         'match': 1,\n",
       "         '25': 1,\n",
       "         'june': 1,\n",
       "         '1932': 1,\n",
       "         'lord': 1,\n",
       "         'sixth': 1,\n",
       "         'granted': 1})"
      ]
     },
     "execution_count": 15,
     "metadata": {},
     "output_type": "execute_result"
    }
   ],
   "source": [
    "from collections import Counter\n",
    "counts = Counter(new_text)\n",
    "counts"
   ]
  },
  {
   "cell_type": "code",
   "execution_count": 16,
   "metadata": {},
   "outputs": [
    {
     "data": {
      "text/plain": [
       "'cricket'"
      ]
     },
     "execution_count": 16,
     "metadata": {},
     "output_type": "execute_result"
    }
   ],
   "source": [
    "max_val = max(counts, key=counts.get)\n",
    "max_val"
   ]
  },
  {
   "cell_type": "code",
   "execution_count": 17,
   "metadata": {},
   "outputs": [
    {
     "name": "stdout",
     "output_type": "stream",
     "text": [
      "dict_values([1, 6, 3, 2, 8, 4, 1, 1, 1, 4, 5, 1, 1, 1, 1, 1, 1, 1, 3, 1, 1, 1, 1, 2, 1, 1, 1, 1, 1, 1, 1, 1, 1, 1, 1, 1, 1, 1, 1, 1])\n",
      "Maximum value is: 8\n"
     ]
    }
   ],
   "source": [
    "# print the maximum values\n",
    "new_count = counts.values() # extract values and assign to a cariable\n",
    "print(new_count)\n",
    "max_count = max(new_count) # use max function to find the maximum value\n",
    "\n",
    "print(f'Maximum value is: {max_count}')"
   ]
  },
  {
   "cell_type": "code",
   "execution_count": 18,
   "metadata": {},
   "outputs": [],
   "source": [
    "# doc object\n",
    "doc = nlp(text)\n",
    "\n",
    "# remove all stop words and punctuations\n",
    "remaining_tokens = []\n",
    "for token in doc:\n",
    "    if token.is_stop or token.is_punct:\n",
    "        continue\n",
    "    remaining_tokens.append(token.text)"
   ]
  },
  {
   "cell_type": "code",
   "execution_count": 19,
   "metadata": {},
   "outputs": [
    {
     "name": "stdout",
     "output_type": "stream",
     "text": [
      "Maximum frequency word: India\n"
     ]
    }
   ],
   "source": [
    "# create new dictionary and get frequenct of the words\n",
    "frequency_tokens = {}\n",
    "for token in remaining_tokens:\n",
    "    if token != '\\n' and token != ' ': # spacy considers newline and space\n",
    "        if token not in frequency_tokens:\n",
    "            frequency_tokens[token] = 1\n",
    "        else:\n",
    "            frequency_tokens[token] += 1 #if a particular token is already\n",
    "\n",
    "# get the maximum frequency word\n",
    "max_freg_word = max(frequency_tokens.keys(), key=(lambda key: frequency_tokens[key]))\n",
    "\n",
    "# finally print result\n",
    "print(f'Maximum frequency word: {max_freg_word}')"
   ]
  },
  {
   "cell_type": "code",
   "execution_count": null,
   "metadata": {},
   "outputs": [],
   "source": []
  }
 ],
 "metadata": {
  "kernelspec": {
   "display_name": "Python 3.8.16 ('tf')",
   "language": "python",
   "name": "python3"
  },
  "language_info": {
   "codemirror_mode": {
    "name": "ipython",
    "version": 3
   },
   "file_extension": ".py",
   "mimetype": "text/x-python",
   "name": "python",
   "nbconvert_exporter": "python",
   "pygments_lexer": "ipython3",
   "version": "3.8.16"
  },
  "orig_nbformat": 4,
  "vscode": {
   "interpreter": {
    "hash": "dc1b947dce198ff7f2d2cb152b2cbb61132fce4429fa808fd5b89ac4d7df39fa"
   }
  }
 },
 "nbformat": 4,
 "nbformat_minor": 2
}
